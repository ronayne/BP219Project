{
 "cells": [
  {
   "cell_type": "code",
   "execution_count": 1,
   "id": "51ce5ddd-1799-4b06-8db6-e8e0063977db",
   "metadata": {},
   "outputs": [],
   "source": [
    "#Imports\n",
    "import requests"
   ]
  },
  {
   "cell_type": "code",
   "execution_count": null,
   "id": "1742c79c-fb0c-4f53-a3c8-49a796356f22",
   "metadata": {},
   "outputs": [],
   "source": [
    "#Read in sequences\n",
    "\n",
    "for i in uniprot_IDs:\n",
    "    URL = 'https://www.uniprot.org/uniprot/' + i + '.fasta'\n",
    "    page = requests.get(URL)"
   ]
  },
  {
   "cell_type": "code",
   "execution_count": 25,
   "id": "e69500fd-c381-4502-8e76-e4bbe1030590",
   "metadata": {},
   "outputs": [],
   "source": [
    "#Identify PLP recognition sequence\n",
    "\n",
    "#reads in a tuple containing sequence and UniProt identifier\n",
    "def id_cleav_site(tuple):\n",
    "    cut_sites = []\n",
    "    ID,seq = tuple \n",
    "    for i in range(0,len(seq) - 3):\n",
    "        if seq[i] + seq[i+2] + seq[i+3] == 'LGG':\n",
    "            cut_sites.append(i + 1)\n",
    "            identifier = ID\n",
    "            tuple2 = (ID, cut_sites)\n",
    "    return tuple2"
   ]
  },
  {
   "cell_type": "code",
   "execution_count": 27,
   "id": "a985f7bb-14d6-4cd1-8f7b-142e5d6e437e",
   "metadata": {},
   "outputs": [
    {
     "name": "stdout",
     "output_type": "stream",
     "text": [
      "('protein', [9])\n"
     ]
    }
   ],
   "source": [
    "a = ('protein','AAAAAAAALPGGAAAAAAAAAA')\n",
    "\n",
    "print(id_cleav_site(a))\n",
    "        \n"
   ]
  },
  {
   "cell_type": "code",
   "execution_count": 9,
   "id": "ba50dc29-d81e-43a1-b640-c75ba867ab6f",
   "metadata": {},
   "outputs": [
    {
     "name": "stdout",
     "output_type": "stream",
     "text": [
      "https://www.uniprot.org/uniprot/Q9ULW8.fasta\n",
      ">sp|Q9ULW8|PADI3_HUMAN Protein-arginine deiminase type-3 OS=Homo sapiens OX=9606 GN=PADI3 PE=1 SV=2\n",
      "MSLQRIVRVSLEHPTSAVCVAGVETLVDIYGSVPEGTEMFEVYGTPGVDIYISPNMERGR\n",
      "ERADTRRWRFDATLEIIVVMNSPSNDLNDSHVQISYHSSHEPLPLAYAVLYLTCVDISLD\n",
      "CDLNCEGRQDRNFVDKRQWVWGPSGYGGILLVNCDRDDPSCDVQDNCDQHVHCLQDLEDM\n",
      "SVMVLRTQGPAALFDDHKLVLHTSSYDAKRAQVFHICGPEDVCEAYRHVLGQDKVSYEVP\n",
      "RLHGDEERFFVEGLSFPDAGFTGLISFHVTLLDDSNEDFSASPIFTDTVVFRVAPWIMTP\n",
      "STLPPLEVYVCRVRNNTCFVDAVAELARKAGCKLTICPQAENRNDRWIQDEMELGYVQAP\n",
      "HKTLPVVFDSPRNGELQDFPYKRILGPDFGYVTREPRDRSVSGLDSFGNLEVSPPVVANG\n",
      "KEYPLGRILIGGNLPGSSGRRVTQVVRDFLHAQKVQPPVELFVDWLAVGHVDEFLSFVPA\n",
      "PDGKGFRMLLASPGACFKLFQEKQKCGHGRALLFQGVVDDEQVKTISINQVLSNKDLINY\n",
      "NKFVQSCIDWNREVLKRELGLAECDIIDIPQLFKTERKKATAFFPDLVNMLVLGKHLGIP\n",
      "KPFGPIINGCCCLEEKVRSLLEPLGLHCTFIDDFTPYHMLHGEVHCGTNVCRKPFSFKWW\n",
      "NMVP\n",
      " Q9ULW8\n"
     ]
    }
   ],
   "source": [
    "#URL = 'https://www.uniprot.org/uniprot/Q9ULW8.fasta'\n",
    "URL = 'https://www.uniprot.org/uniprot/' + 'Q9ULW8' + '.fasta'\n",
    "print(URL)\n",
    "page = requests.get(URL)\n",
    "\n",
    "print(page.text, page.text[4:10])"
   ]
  },
  {
   "cell_type": "code",
   "execution_count": null,
   "id": "2e57326d-2301-4d87-8854-1baa256d4c2d",
   "metadata": {},
   "outputs": [],
   "source": []
  }
 ],
 "metadata": {
  "kernelspec": {
   "display_name": "Python 3",
   "language": "python",
   "name": "python3"
  },
  "language_info": {
   "codemirror_mode": {
    "name": "ipython",
    "version": 3
   },
   "file_extension": ".py",
   "mimetype": "text/x-python",
   "name": "python",
   "nbconvert_exporter": "python",
   "pygments_lexer": "ipython3",
   "version": "3.8.8"
  }
 },
 "nbformat": 4,
 "nbformat_minor": 5
}
